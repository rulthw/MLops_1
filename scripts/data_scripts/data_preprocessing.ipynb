{
 "cells": [
  {
   "cell_type": "code",
   "execution_count": 1,
   "id": "f0ecb444-7360-4a0f-b952-a600e4e4494e",
   "metadata": {},
   "outputs": [],
   "source": [
    "import pandas as pd"
   ]
  },
  {
   "cell_type": "code",
   "execution_count": 2,
   "id": "616e5347-b7fa-4561-ba08-5183104c9cb6",
   "metadata": {},
   "outputs": [],
   "source": [
    "train = pd.read_csv(\"~/MLops_1/data/raw/train.csv\", index_col = 0)\n",
    "test = pd.read_csv(\"~/MLops_1/data/raw/test.csv\", index_col = 0)"
   ]
  },
  {
   "cell_type": "code",
   "execution_count": 3,
   "id": "28b7ac26-6133-45dc-809a-e6810a790d67",
   "metadata": {},
   "outputs": [],
   "source": [
    "train[\"box_office\"].fillna(train[\"box_office\"].mean(), inplace = True)\n",
    "test[\"box_office\"].fillna(test[\"box_office\"].mean(), inplace = True)\n",
    "\n",
    "train[\"runtime\"].fillna(train[\"runtime\"].mean(), inplace = True)\n",
    "test[\"runtime\"].fillna(test[\"runtime\"].mean(), inplace = True)"
   ]
  },
  {
   "cell_type": "code",
   "execution_count": 4,
   "id": "ce903c65-28a4-43f6-898b-5884724699e7",
   "metadata": {},
   "outputs": [],
   "source": [
    "train = train.dropna()\n",
    "test = test.dropna()"
   ]
  },
  {
   "cell_type": "code",
   "execution_count": 5,
   "id": "8d6241b0-53fa-4462-a695-3ad96ea76437",
   "metadata": {},
   "outputs": [],
   "source": [
    "train = train.drop(columns = [\"synopsis\", \"review\", \"rating_10\", \"theater_date\", \"theater_date_int\",\n",
    "                              \"dvd_date\", \"date\", \"genre\", \"director\", \"writer\", \"dvd_date_int\",\n",
    "                              \"studio\", \"critic\", \"publisher\", \"theater_date\", \"dvd_date\"])\n",
    "\n",
    "test = test.drop(columns = [\"synopsis\", \"review\", \"rating_10\", \"theater_date\", \"theater_date_int\",\n",
    "                              \"dvd_date\", \"date\", \"genre\", \"director\", \"writer\", \"dvd_date_int\",\n",
    "                              \"studio\", \"critic\", \"publisher\", \"theater_date\", \"dvd_date\"])"
   ]
  },
  {
   "cell_type": "code",
   "execution_count": 6,
   "id": "24fcbadb-cbfb-4829-a076-8f65baae4caa",
   "metadata": {},
   "outputs": [],
   "source": [
    "train['fresh'] = train['fresh'].replace({'fresh': 1, 'rotten': 0})\n",
    "test['fresh'] = test['fresh'].replace({'fresh': 1, 'rotten': 0})"
   ]
  },
  {
   "cell_type": "code",
   "execution_count": 7,
   "id": "8972aab9-eb59-4b68-b016-cf15a6164d25",
   "metadata": {},
   "outputs": [],
   "source": [
    "train['rating_MPAA'] = train['rating_MPAA'].replace({'R': 1, 'PG-13': 2, 'PG': 3, 'NR': 4, 'G': 5})\n",
    "test['rating_MPAA'] = test['rating_MPAA'].replace({'R': 1, 'PG-13': 2, 'PG': 3, 'NR': 4, 'G': 5})"
   ]
  },
  {
   "cell_type": "code",
   "execution_count": 8,
   "id": "ae43cf1d-625b-493f-990f-5e8b80b4aa40",
   "metadata": {},
   "outputs": [],
   "source": [
    "train.to_csv(\"~/MLops_1/data/baselines/train.csv\", index = False)\n",
    "test.to_csv(\"~/MLops_1/data/baselines/test.csv\", index = False)"
   ]
  }
 ],
 "metadata": {
  "kernelspec": {
   "display_name": "Python 3 (ipykernel)",
   "language": "python",
   "name": "python3"
  },
  "language_info": {
   "codemirror_mode": {
    "name": "ipython",
    "version": 3
   },
   "file_extension": ".py",
   "mimetype": "text/x-python",
   "name": "python",
   "nbconvert_exporter": "python",
   "pygments_lexer": "ipython3",
   "version": "3.10.7"
  }
 },
 "nbformat": 4,
 "nbformat_minor": 5
}
