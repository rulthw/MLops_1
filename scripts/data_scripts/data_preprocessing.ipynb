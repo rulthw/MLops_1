{
 "cells": [
  {
   "cell_type": "code",
   "execution_count": 1,
   "id": "f0ecb444-7360-4a0f-b952-a600e4e4494e",
   "metadata": {},
   "outputs": [],
   "source": [
    "import pandas as pd"
   ]
  },
  {
   "cell_type": "code",
   "execution_count": 2,
   "id": "616e5347-b7fa-4561-ba08-5183104c9cb6",
   "metadata": {},
   "outputs": [],
   "source": [
    "train = pd.read_csv(\"~/MLops_1/data/raw/train.csv\", index_col = 0)\n",
    "test = pd.read_csv(\"~/MLops_1/data/raw/test.csv\", index_col = 0)"
   ]
  },
  {
   "cell_type": "code",
   "execution_count": 3,
   "id": "28b7ac26-6133-45dc-809a-e6810a790d67",
   "metadata": {},
   "outputs": [],
   "source": [
    "train[\"box_office\"].fillna(train[\"box_office\"].mean(), inplace = True)\n",
    "test[\"box_office\"].fillna(test[\"box_office\"].mean(), inplace = True)\n",
    "\n",
    "train[\"runtime\"].fillna(train[\"runtime\"].mean(), inplace = True)\n",
    "test[\"runtime\"].fillna(test[\"runtime\"].mean(), inplace = True)"
   ]
  },
  {
   "cell_type": "code",
   "execution_count": 4,
   "id": "ce903c65-28a4-43f6-898b-5884724699e7",
   "metadata": {},
   "outputs": [],
   "source": [
    "train = train.dropna()\n",
    "test = test.dropna()"
   ]
  },
  {
   "cell_type": "code",
   "execution_count": 5,
   "id": "25d55cc6-f5cf-4b63-931f-7df9b075287f",
   "metadata": {},
   "outputs": [],
   "source": [
    "train[\"theater_date\"] = train[\"theater_date\"].astype(\"datetime64[ns]\")\n",
    "test[\"theater_date\"] = test[\"theater_date\"].astype(\"datetime64[ns]\")\n",
    "\n",
    "train[\"dvd_date\"] = train[\"dvd_date\"].astype(\"datetime64[ns]\")\n",
    "test[\"dvd_date\"] = test[\"dvd_date\"].astype(\"datetime64[ns]\")"
   ]
  },
  {
   "cell_type": "code",
   "execution_count": 6,
   "id": "e838953d-1066-4082-bd98-a177e4de6f9b",
   "metadata": {},
   "outputs": [],
   "source": [
    "train[\"year_theater\"] = train[\"theater_date\"].dt.to_period(\"Y\")\n",
    "test[\"year_theater\"] = test[\"theater_date\"].dt.to_period(\"Y\")\n",
    "\n",
    "train[\"year_dvd\"] = train[\"dvd_date\"].dt.to_period(\"Y\")\n",
    "test[\"year_dvd\"] = test[\"dvd_date\"].dt.to_period(\"Y\")"
   ]
  },
  {
   "cell_type": "code",
   "execution_count": 7,
   "id": "ce3113b5-df4a-47eb-a20c-a286e10533d5",
   "metadata": {},
   "outputs": [],
   "source": [
    "train[\"year_theater\"] = train[\"year_theater\"].astype(\"int64\")\n",
    "test[\"year_theater\"] = test[\"year_theater\"].astype(\"int64\")\n",
    "\n",
    "train[\"year_dvd\"] = train[\"year_dvd\"].astype(\"int64\")\n",
    "test[\"year_dvd\"] = test[\"year_dvd\"].astype(\"int64\")"
   ]
  },
  {
   "cell_type": "code",
   "execution_count": 8,
   "id": "74859e2e-4bb3-4c3a-a006-f10300140084",
   "metadata": {},
   "outputs": [],
   "source": [
    "train[\"year_dvd-theater\"] = train[\"year_dvd\"]-train[\"year_theater\"]\n",
    "test[\"year_dvd-theater\"] = test[\"year_dvd\"]-test[\"year_theater\"]"
   ]
  },
  {
   "cell_type": "code",
   "execution_count": 9,
   "id": "8d6241b0-53fa-4462-a695-3ad96ea76437",
   "metadata": {},
   "outputs": [],
   "source": [
    "train = train.drop(columns = [\"synopsis\", \"review\", \"rating_10\", \n",
    "                              \"theater_date\", \"dvd_date\", \"date\", \"year_theater\",\n",
    "                              \"year_dvd\",\"dvd_date_int\", \"date_int\"])\n",
    "test = test.drop(columns = [\"synopsis\", \"review\", \"rating_10\",\n",
    "                            \"theater_date\", \"dvd_date\", \"date\", \"year_theater\", \n",
    "                            \"year_dvd\", \"dvd_date_int\", \"date_int\"])"
   ]
  },
  {
   "cell_type": "code",
   "execution_count": 10,
   "id": "24fcbadb-cbfb-4829-a076-8f65baae4caa",
   "metadata": {},
   "outputs": [],
   "source": [
    "train['fresh'] = train['fresh'].replace({'fresh': 1, 'rotten': 0})\n",
    "test['fresh'] = test['fresh'].replace({'fresh': 1, 'rotten': 0})"
   ]
  },
  {
   "cell_type": "code",
   "execution_count": 11,
   "id": "8972aab9-eb59-4b68-b016-cf15a6164d25",
   "metadata": {},
   "outputs": [],
   "source": [
    "train['rating_MPAA'] = train['rating_MPAA'].replace({'R': 1, 'PG-13': 2, 'PG': 3, 'NR': 4, 'G': 5})\n",
    "test['rating_MPAA'] = test['rating_MPAA'].replace({'R': 1, 'PG-13': 2, 'PG': 3, 'NR': 4, 'G': 5})"
   ]
  },
  {
   "cell_type": "code",
   "execution_count": 12,
   "id": "026f7215-d250-4eb9-be78-ec8229ac5cfe",
   "metadata": {},
   "outputs": [],
   "source": [
    "train = pd.get_dummies(train)\n",
    "test = pd.get_dummies(test)"
   ]
  },
  {
   "cell_type": "code",
   "execution_count": 13,
   "id": "ae43cf1d-625b-493f-990f-5e8b80b4aa40",
   "metadata": {},
   "outputs": [],
   "source": [
    "train.to_csv(\"~/MLops_1/data/baselines/train.csv\", index = False)\n",
    "test.to_csv(\"~/MLops_1/data/baselines/test.csv\", index = False)"
   ]
  }
 ],
 "metadata": {
  "kernelspec": {
   "display_name": "Python 3 (ipykernel)",
   "language": "python",
   "name": "python3"
  },
  "language_info": {
   "codemirror_mode": {
    "name": "ipython",
    "version": 3
   },
   "file_extension": ".py",
   "mimetype": "text/x-python",
   "name": "python",
   "nbconvert_exporter": "python",
   "pygments_lexer": "ipython3",
   "version": "3.10.7"
  }
 },
 "nbformat": 4,
 "nbformat_minor": 5
}
