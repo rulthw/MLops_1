{
 "cells": [
  {
   "cell_type": "code",
   "execution_count": 1,
   "id": "e61e7cbb-dcab-451a-ba03-ddf92ac3d111",
   "metadata": {},
   "outputs": [],
   "source": [
    "import pandas as pd\n",
    "\n",
    "from sklearn.linear_model import LogisticRegression\n",
    "from sklearn.metrics import classification_report\n",
    "\n",
    "import warnings\n",
    "warnings.simplefilter(\"ignore\", UserWarning)\n",
    "\n",
    "from sklearn.preprocessing import MinMaxScaler\n",
    "from sklearn.model_selection import cross_validate"
   ]
  },
  {
   "cell_type": "code",
   "execution_count": 2,
   "id": "adbba67f-58ea-444b-9120-611eb7e64133",
   "metadata": {},
   "outputs": [],
   "source": [
    "train = pd.read_csv(\"~/MLops_1/data/baselines/train.csv\", index_col = 0)\n",
    "test = pd.read_csv(\"~/MLops_1/data/baselines/test.csv\", index_col = 0)"
   ]
  },
  {
   "cell_type": "code",
   "execution_count": 3,
   "id": "fa6e5ba0-f798-4c71-a7aa-15cd39592777",
   "metadata": {},
   "outputs": [],
   "source": [
    "X = train.drop(columns = 'fresh').values\n",
    "y_train = train['fresh'].values\n",
    "features_names = train.drop(columns = 'fresh').columns\n",
    "\n",
    "X_test = test.drop(columns = 'fresh').values\n",
    "y_test = test['fresh'].values\n",
    "\n",
    "scaler  = MinMaxScaler()\n",
    "X_train = scaler.fit_transform(X)\n",
    "\n",
    "X_test = scaler.transform(X_test)"
   ]
  },
  {
   "cell_type": "code",
   "execution_count": 4,
   "id": "821412a9-3930-4769-bad4-5610fcef6c48",
   "metadata": {},
   "outputs": [
    {
     "name": "stdout",
     "output_type": "stream",
     "text": [
      "              precision    recall  f1-score   support\n",
      "\n",
      "      rotten       0.93      0.83      0.88      1763\n",
      "       fresh       0.89      0.96      0.92      2658\n",
      "\n",
      "    accuracy                           0.91      4421\n",
      "   macro avg       0.91      0.89      0.90      4421\n",
      "weighted avg       0.91      0.91      0.90      4421\n",
      "\n"
     ]
    }
   ],
   "source": [
    "penalty= 'l1'\n",
    "regularization = 2.76\n",
    "\n",
    "LogReg = LogisticRegression(fit_intercept=True,\n",
    "                            penalty=penalty,solver='saga',\n",
    "                            C=regularization,\n",
    "                            max_iter=100000)\n",
    "\n",
    "LogReg.fit(X_train, y_train)\n",
    "\n",
    "y_predict=LogReg.predict(X_test)\n",
    "\n",
    "print (classification_report(y_test, y_predict, target_names=['rotten','fresh']))"
   ]
  },
  {
   "cell_type": "code",
   "execution_count": 5,
   "id": "f1cc1e47-85a2-4c5c-b646-ae6a0321cd3a",
   "metadata": {},
   "outputs": [],
   "source": [
    "from sklearn import svm"
   ]
  },
  {
   "cell_type": "code",
   "execution_count": 6,
   "id": "ac29cfa2-a504-4dc1-929e-db0f46ad1d98",
   "metadata": {},
   "outputs": [
    {
     "name": "stdout",
     "output_type": "stream",
     "text": [
      "              precision    recall  f1-score   support\n",
      "\n",
      "      rotten       0.93      0.83      0.88      1763\n",
      "       fresh       0.89      0.96      0.93      2658\n",
      "\n",
      "    accuracy                           0.91      4421\n",
      "   macro avg       0.91      0.89      0.90      4421\n",
      "weighted avg       0.91      0.91      0.91      4421\n",
      "\n"
     ]
    }
   ],
   "source": [
    "C=21.561107009674373\n",
    "coef0=0.5\n",
    "gamma = 0.010076610236286084\n",
    "\n",
    "SVM_clf=svm.SVC(C=C, gamma=gamma, coef0 = coef0)\n",
    "\n",
    "SVM_clf.fit(X_train, y_train)\n",
    "y_predict_SVM=SVM_clf.predict(X_test)\n",
    "\n",
    "print (classification_report(y_test, y_predict_SVM, target_names=['rotten','fresh']))"
   ]
  },
  {
   "cell_type": "code",
   "execution_count": 7,
   "id": "ad7c8fe9-bf52-437d-9488-c61821c8255c",
   "metadata": {},
   "outputs": [
    {
     "name": "stdout",
     "output_type": "stream",
     "text": [
      "              precision    recall  f1-score   support\n",
      "\n",
      "      rotten       0.90      0.90      0.90      1763\n",
      "       fresh       0.94      0.93      0.93      2658\n",
      "\n",
      "    accuracy                           0.92      4421\n",
      "   macro avg       0.92      0.92      0.92      4421\n",
      "weighted avg       0.92      0.92      0.92      4421\n",
      "\n"
     ]
    }
   ],
   "source": [
    "from sklearn.tree import DecisionTreeClassifier\n",
    "clf = DecisionTreeClassifier(random_state=0)\n",
    "\n",
    "clf.fit(X_train, y_train)\n",
    "y_pred = clf.predict(X_test)\n",
    "\n",
    "print (classification_report(y_test, y_pred, target_names=['rotten','fresh']))"
   ]
  }
 ],
 "metadata": {
  "kernelspec": {
   "display_name": "Python 3 (ipykernel)",
   "language": "python",
   "name": "python3"
  },
  "language_info": {
   "codemirror_mode": {
    "name": "ipython",
    "version": 3
   },
   "file_extension": ".py",
   "mimetype": "text/x-python",
   "name": "python",
   "nbconvert_exporter": "python",
   "pygments_lexer": "ipython3",
   "version": "3.10.7"
  }
 },
 "nbformat": 4,
 "nbformat_minor": 5
}
