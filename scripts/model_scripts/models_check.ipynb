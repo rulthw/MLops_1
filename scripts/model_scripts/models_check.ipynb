{
 "cells": [
  {
   "cell_type": "code",
   "execution_count": 1,
   "id": "e61e7cbb-dcab-451a-ba03-ddf92ac3d111",
   "metadata": {},
   "outputs": [],
   "source": [
    "import pandas as pd\n",
    "\n",
    "from sklearn.linear_model import LogisticRegression\n",
    "from sklearn.metrics import classification_report\n",
    "\n",
    "import warnings\n",
    "warnings.simplefilter(\"ignore\", UserWarning)\n",
    "\n",
    "from sklearn.preprocessing import MinMaxScaler\n",
    "from sklearn.model_selection import cross_validate"
   ]
  },
  {
   "cell_type": "code",
   "execution_count": 2,
   "id": "adbba67f-58ea-444b-9120-611eb7e64133",
   "metadata": {},
   "outputs": [],
   "source": [
    "train = pd.read_csv(\"~/MLops_1/data/baselines/train.csv\", index_col = 0)\n",
    "test = pd.read_csv(\"~/MLops_1/data/baselines/test.csv\", index_col = 0)"
   ]
  },
  {
   "cell_type": "code",
   "execution_count": null,
   "id": "fa6e5ba0-f798-4c71-a7aa-15cd39592777",
   "metadata": {},
   "outputs": [],
   "source": [
    "X = train.drop(columns = 'fresh').values\n",
    "y_train = train['fresh'].values\n",
    "features_names = train.drop(columns = 'fresh').columns\n",
    "\n",
    "X_test = test.drop(columns = 'fresh').values\n",
    "y_test = test['fresh'].values\n",
    "\n",
    "scaler  = MinMaxScaler()\n",
    "X_train = scaler.fit_transform(X)\n",
    "\n",
    "X_test = scaler.transform(X_test)"
   ]
  },
  {
   "cell_type": "code",
   "execution_count": null,
   "id": "821412a9-3930-4769-bad4-5610fcef6c48",
   "metadata": {},
   "outputs": [],
   "source": [
    "penalty= 'l1'\n",
    "regularization = 2.76\n",
    "\n",
    "LogReg = LogisticRegression(fit_intercept=True,\n",
    "                            penalty=penalty,solver='saga',\n",
    "                            C=regularization,\n",
    "                            max_iter=100000)\n",
    "\n",
    "LogReg.fit(X_train, y_train)\n",
    "\n",
    "y_predict=LogReg.predict(X_test)\n",
    "\n",
    "print (classification_report(y_test, y_predict, target_names=['rotten','fresh']))"
   ]
  },
  {
   "cell_type": "code",
   "execution_count": null,
   "id": "ac29cfa2-a504-4dc1-929e-db0f46ad1d98",
   "metadata": {},
   "outputs": [],
   "source": [
    "C=21.561107009674373\n",
    "coef0=0.5\n",
    "gamma = 0.010076610236286084\n",
    "\n",
    "SVM_clf=SVC(C=C, gamma=gamma, coef0 = coef0)\n",
    "\n",
    "SVM_clf.fit(X_train, y_train)\n",
    "y_predict_SVM=SVM_clf.predict(X_test)\n",
    "\n",
    "print (classification_report(y_test, y_predict_SVM, target_names=['rotten','fresh']))"
   ]
  }
 ],
 "metadata": {
  "kernelspec": {
   "display_name": "Python 3 (ipykernel)",
   "language": "python",
   "name": "python3"
  },
  "language_info": {
   "codemirror_mode": {
    "name": "ipython",
    "version": 3
   },
   "file_extension": ".py",
   "mimetype": "text/x-python",
   "name": "python",
   "nbconvert_exporter": "python",
   "pygments_lexer": "ipython3",
   "version": "3.10.7"
  }
 },
 "nbformat": 4,
 "nbformat_minor": 5
}
